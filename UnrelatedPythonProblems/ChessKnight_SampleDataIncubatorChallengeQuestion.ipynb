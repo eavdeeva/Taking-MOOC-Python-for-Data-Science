{
 "cells": [
  {
   "cell_type": "markdown",
   "metadata": {},
   "source": [
    "Quote from \n",
    "https://www.coursereport.com/schools/the-data-incubator#/news/cracking-the-bootcamp-interview-the-data-incubator\n",
    "\n",
    "\"Here is a sample of one of our past challenge questions. We don’t re-use them, but this gives you an idea of what to expect:\n",
    "\n",
    "A chess knight piece is sitting on the \"0\" key of  a numeric keypad.\n",
    "\n",
    "|   |   |   |\n",
    "|---|---|---|\n",
    "| 1 | 2 | 3 |\n",
    "| 4 | 5 | 6 |\n",
    "| 7 | 8 | 9 |\n",
    "|   | 0 |   |\n",
    "\n",
    "The knight makes T jumps to other keys according to its allowable moves (so that from each reachable key it has two or three allowable moves). The knight chooses amongst the allowable moves uniformly at random and keeps track of the running sum SS of keys on which it lands. We are interested in S under the modulo operator.\n",
    "\n",
    "After T=10T10 moves, what is the expected value of the quantity S mod 10?\"\n",
    "\n",
    "(I assume there is a typo, instead of T=10T10, it's T=10)"
   ]
  },
  {
   "cell_type": "code",
   "execution_count": 157,
   "metadata": {},
   "outputs": [],
   "source": [
    "import numpy as np\n",
    "\n",
    "# knightCanJumpTo determines the list of the possible knight's jumps\n",
    "def knightCanJumpTo(cell):\n",
    "    if cell==0: return [4,6]\n",
    "    elif cell==1: return [6,8]\n",
    "    elif cell==2: return [7,9]\n",
    "    elif cell==3: return [4,8]\n",
    "    elif cell==4: return [0,3,9]\n",
    "    elif cell==5: return 'NOWHERE'\n",
    "    elif cell==6: return [0,1,7]\n",
    "    elif cell==7: return [2,6]\n",
    "    elif cell==8: return [1,3]\n",
    "    elif cell==9: return [2,4]\n",
    "    else: return 'UNKNOWN START CELL'\n",
    "\n",
    "# knightJumpsTo deternimes where the knight will actually jump to\n",
    "def knightJumpsTo(cell):\n",
    "    listOfCells = knightCanMoveTo(cell)\n",
    "    arr = np.array(listOfCells)\n",
    "    r = np.random.randint(arr.size)\n",
    "    return arr[r]\n",
    "\n",
    "# knight makes T jumps\n",
    "# cell - starting cell (=0), \n",
    "# T - number of jumps (=10), S - sum of keys (=0) \n",
    "def knightMakesTJumps(cell, T, S=0, testMode=False):\n",
    "    if (testMode):\n",
    "        print ('cell={}, T={}, S={}'.format(cell,T,S))\n",
    "    if (T==0): return S\n",
    "    cellNew = knightJumpsTo(cell)\n",
    "    return knightMakesTJumps(cellNew,T-1,S+cellNew,testMode)\n",
    "\n",
    "# generate an array of 'knightMakesTJumps' outcomes\n",
    "def generateNEvents (N):\n",
    "    arr=np.zeros(N)\n",
    "    for n in list(range(0,N)):\n",
    "        arr[n]=knightMakesTJumps(cell=0, T=10)\n",
    "    return arr"
   ]
  },
  {
   "cell_type": "code",
   "execution_count": 158,
   "metadata": {},
   "outputs": [
    {
     "name": "stdout",
     "output_type": "stream",
     "text": [
      "cell=0, T=10, S=0\n",
      "cell=4, T=9, S=4\n",
      "cell=0, T=8, S=4\n",
      "cell=4, T=7, S=8\n",
      "cell=0, T=6, S=8\n",
      "cell=4, T=5, S=12\n",
      "cell=0, T=4, S=12\n",
      "cell=6, T=3, S=18\n",
      "cell=7, T=2, S=25\n",
      "cell=6, T=1, S=31\n",
      "cell=7, T=0, S=38\n"
     ]
    },
    {
     "data": {
      "text/plain": [
       "38"
      ]
     },
     "execution_count": 158,
     "metadata": {},
     "output_type": "execute_result"
    }
   ],
   "source": [
    "# Test \n",
    "knightMakesTJumps(cell=0, T=10, testMode=True)"
   ]
  },
  {
   "cell_type": "code",
   "execution_count": 165,
   "metadata": {},
   "outputs": [
    {
     "name": "stdout",
     "output_type": "stream",
     "text": [
      "arrMean=44.0623, arrModeMean=4.5763\n"
     ]
    }
   ],
   "source": [
    "# Generate 100000 events\n",
    "arr = generateNEvents(10000)\n",
    "arrMean = np.mean(arr)\n",
    "arrMode = arr % 10\n",
    "arrModeMean = np.mean(arrMode)\n",
    "print('arrMean={}, arrModeMean={}'.format(arrMean,arrModeMean))"
   ]
  },
  {
   "cell_type": "markdown",
   "metadata": {},
   "source": [
    "Now let's check distribution of S with seaborn"
   ]
  },
  {
   "cell_type": "code",
   "execution_count": 166,
   "metadata": {},
   "outputs": [
    {
     "data": {
      "text/plain": [
       "<matplotlib.axes._subplots.AxesSubplot at 0x7f5ee5aca710>"
      ]
     },
     "execution_count": 166,
     "metadata": {},
     "output_type": "execute_result"
    },
    {
     "data": {
      "image/png": "[encoded data removed]",
      "text/plain": [
       "<matplotlib.figure.Figure at 0x7f5ee5c6b898>"
      ]
     },
     "metadata": {},
     "output_type": "display_data"
    }
   ],
   "source": [
    "import pandas as pd\n",
    "import seaborn as sns\n",
    "%matplotlib inline\n",
    "\n",
    "pd_Knight = pd.Series(data=arr)\n",
    "sns.distplot(pd_Knight, bins=20)"
   ]
  },
  {
   "cell_type": "code",
   "execution_count": null,
   "metadata": {},
   "outputs": [],
   "source": []
  },
  {
   "cell_type": "code",
   "execution_count": null,
   "metadata": {
    "collapsed": true
   },
   "outputs": [],
   "source": []
  }
 ],
 "metadata": {
  "kernelspec": {
   "display_name": "Python 3",
   "language": "python",
   "name": "python3"
  },
  "language_info": {
   "codemirror_mode": {
    "name": "ipython",
    "version": 3
   },
   "file_extension": ".py",
   "mimetype": "text/x-python",
   "name": "python",
   "nbconvert_exporter": "python",
   "pygments_lexer": "ipython3",
   "version": "3.6.1"
  }
 },
 "nbformat": 4,
 "nbformat_minor": 2
}
